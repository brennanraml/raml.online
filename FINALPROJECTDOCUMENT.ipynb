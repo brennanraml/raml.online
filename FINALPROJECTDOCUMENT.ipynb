{
 "cells": [
  {
   "cell_type": "markdown",
   "id": "fd78706b",
   "metadata": {},
   "source": [
    "For my final project, I aimed to answer the question: “Do my listening habits differ from others in terms of emotion?” After exploring the data, my question shifted to: “How does the Spotify emotional data of my personal listening history compare to the top 10 songs during the week of 4/21/22?” I also sought to answer some other questions related to the measurement of emotional data. These questions are: “Does an increase in tempo mean an increase in valence?” and “Does an increase in tempo mean an increase in danceability?”. Spotify gathers an immense amount of data regarding a song’s musical information, such as tempo, key, timbre, and various other measurements to compute the track’s valence. According to Spotify, valence is defined as “A measure from 0.0 to 1.0 describing the musical positiveness conveyed by a track. Tracks with high valence sound more positive (e.g. happy, cheerful, euphoric), while tracks with low valence sound more negative (e.g. sad, depressed, angry)”. I wanted to use this value to compare my music to others, and to assess how strong a song’s tempo can be in a song measurement.\n",
    "\n",
    "As someone who listens to heavier music year-round, I am curious to put both my and the listening chart's top 10 tracks side by side and examine each track's emotional data that spotify measures. To do this, I must begin by accessing Spotify's API.\n",
    "\n",
    "The below code is the spotifyAPIExample available on Canvas. I used this to setup the spotify api requests."
   ]
  },
  {
   "cell_type": "code",
   "execution_count": 25,
   "id": "8e656c5e",
   "metadata": {},
   "outputs": [
    {
     "data": {
      "text/plain": [
       "{'artists': {'href': 'https://api.spotify.com/v1/search?query=Mastodon&type=artist&offset=0&limit=20',\n",
       "  'items': [{'external_urls': {'spotify': 'https://open.spotify.com/artist/1Dvfqq39HxvCJ3GvfeIFuT'},\n",
       "    'followers': {'href': None, 'total': 730175},\n",
       "    'genres': ['alternative metal',\n",
       "     'atlanta metal',\n",
       "     'hard rock',\n",
       "     'metal',\n",
       "     'nu metal',\n",
       "     'progressive groove metal',\n",
       "     'progressive sludge',\n",
       "     'rock',\n",
       "     'sludge metal',\n",
       "     'stoner metal'],\n",
       "    'href': 'https://api.spotify.com/v1/artists/1Dvfqq39HxvCJ3GvfeIFuT',\n",
       "    'id': '1Dvfqq39HxvCJ3GvfeIFuT',\n",
       "    'images': [{'height': 640,\n",
       "      'url': 'https://i.scdn.co/image/ab6761610000e5ebf84fe9e6fbb2aa001d6cbbd9',\n",
       "      'width': 640},\n",
       "     {'height': 320,\n",
       "      'url': 'https://i.scdn.co/image/ab67616100005174f84fe9e6fbb2aa001d6cbbd9',\n",
       "      'width': 320},\n",
       "     {'height': 160,\n",
       "      'url': 'https://i.scdn.co/image/ab6761610000f178f84fe9e6fbb2aa001d6cbbd9',\n",
       "      'width': 160}],\n",
       "    'name': 'Mastodon',\n",
       "    'popularity': 63,\n",
       "    'type': 'artist',\n",
       "    'uri': 'spotify:artist:1Dvfqq39HxvCJ3GvfeIFuT'},\n",
       "   {'external_urls': {'spotify': 'https://open.spotify.com/artist/4hXAEP4eZ8Et0UMdOdOf0E'},\n",
       "    'followers': {'href': None, 'total': 7765},\n",
       "    'genres': [],\n",
       "    'href': 'https://api.spotify.com/v1/artists/4hXAEP4eZ8Et0UMdOdOf0E',\n",
       "    'id': '4hXAEP4eZ8Et0UMdOdOf0E',\n",
       "    'images': [{'height': 640,\n",
       "      'url': 'https://i.scdn.co/image/ab6761610000e5eb706441b97a9d9521bed90a19',\n",
       "      'width': 640},\n",
       "     {'height': 320,\n",
       "      'url': 'https://i.scdn.co/image/ab67616100005174706441b97a9d9521bed90a19',\n",
       "      'width': 320},\n",
       "     {'height': 160,\n",
       "      'url': 'https://i.scdn.co/image/ab6761610000f178706441b97a9d9521bed90a19',\n",
       "      'width': 160}],\n",
       "    'name': 'Mastodonte',\n",
       "    'popularity': 25,\n",
       "    'type': 'artist',\n",
       "    'uri': 'spotify:artist:4hXAEP4eZ8Et0UMdOdOf0E'},\n",
       "   {'external_urls': {'spotify': 'https://open.spotify.com/artist/4QHrnzMEIo0VgOUJSJZwTN'},\n",
       "    'followers': {'href': None, 'total': 320},\n",
       "    'genres': [],\n",
       "    'href': 'https://api.spotify.com/v1/artists/4QHrnzMEIo0VgOUJSJZwTN',\n",
       "    'id': '4QHrnzMEIo0VgOUJSJZwTN',\n",
       "    'images': [{'height': 640,\n",
       "      'url': 'https://i.scdn.co/image/ab6761610000e5eb1d337b9058066f95ef07062b',\n",
       "      'width': 640},\n",
       "     {'height': 320,\n",
       "      'url': 'https://i.scdn.co/image/ab676161000051741d337b9058066f95ef07062b',\n",
       "      'width': 320},\n",
       "     {'height': 160,\n",
       "      'url': 'https://i.scdn.co/image/ab6761610000f1781d337b9058066f95ef07062b',\n",
       "      'width': 160}],\n",
       "    'name': 'MastodonRare',\n",
       "    'popularity': 1,\n",
       "    'type': 'artist',\n",
       "    'uri': 'spotify:artist:4QHrnzMEIo0VgOUJSJZwTN'},\n",
       "   {'external_urls': {'spotify': 'https://open.spotify.com/artist/1UtrqakmT1FJgaClaFtejp'},\n",
       "    'followers': {'href': None, 'total': 0},\n",
       "    'genres': [],\n",
       "    'href': 'https://api.spotify.com/v1/artists/1UtrqakmT1FJgaClaFtejp',\n",
       "    'id': '1UtrqakmT1FJgaClaFtejp',\n",
       "    'images': [],\n",
       "    'name': 'mastodonte',\n",
       "    'popularity': 0,\n",
       "    'type': 'artist',\n",
       "    'uri': 'spotify:artist:1UtrqakmT1FJgaClaFtejp'},\n",
       "   {'external_urls': {'spotify': 'https://open.spotify.com/artist/3wnSv5NhMXhqMbXwzPVpn2'},\n",
       "    'followers': {'href': None, 'total': 38},\n",
       "    'genres': [],\n",
       "    'href': 'https://api.spotify.com/v1/artists/3wnSv5NhMXhqMbXwzPVpn2',\n",
       "    'id': '3wnSv5NhMXhqMbXwzPVpn2',\n",
       "    'images': [],\n",
       "    'name': 'Mastodonterne',\n",
       "    'popularity': 6,\n",
       "    'type': 'artist',\n",
       "    'uri': 'spotify:artist:3wnSv5NhMXhqMbXwzPVpn2'},\n",
       "   {'external_urls': {'spotify': 'https://open.spotify.com/artist/0qxJCNIBMG8pxsRyvGeXFc'},\n",
       "    'followers': {'href': None, 'total': 1},\n",
       "    'genres': [],\n",
       "    'href': 'https://api.spotify.com/v1/artists/0qxJCNIBMG8pxsRyvGeXFc',\n",
       "    'id': '0qxJCNIBMG8pxsRyvGeXFc',\n",
       "    'images': [],\n",
       "    'name': 'Mastodonte',\n",
       "    'popularity': 0,\n",
       "    'type': 'artist',\n",
       "    'uri': 'spotify:artist:0qxJCNIBMG8pxsRyvGeXFc'},\n",
       "   {'external_urls': {'spotify': 'https://open.spotify.com/artist/484ogm5RWziRLqXjiOI4Ll'},\n",
       "    'followers': {'href': None, 'total': 108},\n",
       "    'genres': [],\n",
       "    'href': 'https://api.spotify.com/v1/artists/484ogm5RWziRLqXjiOI4Ll',\n",
       "    'id': '484ogm5RWziRLqXjiOI4Ll',\n",
       "    'images': [{'height': 640,\n",
       "      'url': 'https://i.scdn.co/image/ab6761610000e5ebc61780f91fcd7cda00555210',\n",
       "      'width': 640},\n",
       "     {'height': 320,\n",
       "      'url': 'https://i.scdn.co/image/ab67616100005174c61780f91fcd7cda00555210',\n",
       "      'width': 320},\n",
       "     {'height': 160,\n",
       "      'url': 'https://i.scdn.co/image/ab6761610000f178c61780f91fcd7cda00555210',\n",
       "      'width': 160}],\n",
       "    'name': 'Mastodonte',\n",
       "    'popularity': 0,\n",
       "    'type': 'artist',\n",
       "    'uri': 'spotify:artist:484ogm5RWziRLqXjiOI4Ll'},\n",
       "   {'external_urls': {'spotify': 'https://open.spotify.com/artist/5ZD2iBgKuBsL2o1dy1uXyj'},\n",
       "    'followers': {'href': None, 'total': 0},\n",
       "    'genres': [],\n",
       "    'href': 'https://api.spotify.com/v1/artists/5ZD2iBgKuBsL2o1dy1uXyj',\n",
       "    'id': '5ZD2iBgKuBsL2o1dy1uXyj',\n",
       "    'images': [],\n",
       "    'name': 'Mastodonrare',\n",
       "    'popularity': 0,\n",
       "    'type': 'artist',\n",
       "    'uri': 'spotify:artist:5ZD2iBgKuBsL2o1dy1uXyj'},\n",
       "   {'external_urls': {'spotify': 'https://open.spotify.com/artist/6shD5eNBVTdksVEt55PLTx'},\n",
       "    'followers': {'href': None, 'total': 202},\n",
       "    'genres': [],\n",
       "    'href': 'https://api.spotify.com/v1/artists/6shD5eNBVTdksVEt55PLTx',\n",
       "    'id': '6shD5eNBVTdksVEt55PLTx',\n",
       "    'images': [{'height': 640,\n",
       "      'url': 'https://i.scdn.co/image/ab6761610000e5eb8794e2e0c4f1edcb58a2a2bf',\n",
       "      'width': 640},\n",
       "     {'height': 320,\n",
       "      'url': 'https://i.scdn.co/image/ab676161000051748794e2e0c4f1edcb58a2a2bf',\n",
       "      'width': 320},\n",
       "     {'height': 160,\n",
       "      'url': 'https://i.scdn.co/image/ab6761610000f1788794e2e0c4f1edcb58a2a2bf',\n",
       "      'width': 160}],\n",
       "    'name': 'Mastodonte',\n",
       "    'popularity': 2,\n",
       "    'type': 'artist',\n",
       "    'uri': 'spotify:artist:6shD5eNBVTdksVEt55PLTx'},\n",
       "   {'external_urls': {'spotify': 'https://open.spotify.com/artist/6ujkhtKxBfEN3CQvVqIgaW'},\n",
       "    'followers': {'href': None, 'total': 2},\n",
       "    'genres': [],\n",
       "    'href': 'https://api.spotify.com/v1/artists/6ujkhtKxBfEN3CQvVqIgaW',\n",
       "    'id': '6ujkhtKxBfEN3CQvVqIgaW',\n",
       "    'images': [{'height': 640,\n",
       "      'url': 'https://i.scdn.co/image/ab67616d0000b2732f273ab84a8699e17f2d8a98',\n",
       "      'width': 640},\n",
       "     {'height': 300,\n",
       "      'url': 'https://i.scdn.co/image/ab67616d00001e022f273ab84a8699e17f2d8a98',\n",
       "      'width': 300},\n",
       "     {'height': 64,\n",
       "      'url': 'https://i.scdn.co/image/ab67616d000048512f273ab84a8699e17f2d8a98',\n",
       "      'width': 64}],\n",
       "    'name': 'Mastodonte',\n",
       "    'popularity': 0,\n",
       "    'type': 'artist',\n",
       "    'uri': 'spotify:artist:6ujkhtKxBfEN3CQvVqIgaW'},\n",
       "   {'external_urls': {'spotify': 'https://open.spotify.com/artist/4yQwkGertP7mvkpuhHkjD8'},\n",
       "    'followers': {'href': None, 'total': 0},\n",
       "    'genres': [],\n",
       "    'href': 'https://api.spotify.com/v1/artists/4yQwkGertP7mvkpuhHkjD8',\n",
       "    'id': '4yQwkGertP7mvkpuhHkjD8',\n",
       "    'images': [],\n",
       "    'name': 'Mastodonte',\n",
       "    'popularity': 0,\n",
       "    'type': 'artist',\n",
       "    'uri': 'spotify:artist:4yQwkGertP7mvkpuhHkjD8'},\n",
       "   {'external_urls': {'spotify': 'https://open.spotify.com/artist/7qyoqpwK4ALbvJ33jJbyIN'},\n",
       "    'followers': {'href': None, 'total': 1320},\n",
       "    'genres': ['musica popular paraense'],\n",
       "    'href': 'https://api.spotify.com/v1/artists/7qyoqpwK4ALbvJ33jJbyIN',\n",
       "    'id': '7qyoqpwK4ALbvJ33jJbyIN',\n",
       "    'images': [{'height': 640,\n",
       "      'url': 'https://i.scdn.co/image/ab6761610000e5eb91ed889f1b978bcb5d19aec1',\n",
       "      'width': 640},\n",
       "     {'height': 320,\n",
       "      'url': 'https://i.scdn.co/image/ab6761610000517491ed889f1b978bcb5d19aec1',\n",
       "      'width': 320},\n",
       "     {'height': 160,\n",
       "      'url': 'https://i.scdn.co/image/ab6761610000f17891ed889f1b978bcb5d19aec1',\n",
       "      'width': 160}],\n",
       "    'name': 'Bando Mastodontes',\n",
       "    'popularity': 14,\n",
       "    'type': 'artist',\n",
       "    'uri': 'spotify:artist:7qyoqpwK4ALbvJ33jJbyIN'},\n",
       "   {'external_urls': {'spotify': 'https://open.spotify.com/artist/7Fhp9FkCur0n6MeXGFlCU1'},\n",
       "    'followers': {'href': None, 'total': 2},\n",
       "    'genres': [],\n",
       "    'href': 'https://api.spotify.com/v1/artists/7Fhp9FkCur0n6MeXGFlCU1',\n",
       "    'id': '7Fhp9FkCur0n6MeXGFlCU1',\n",
       "    'images': [{'height': 640,\n",
       "      'url': 'https://i.scdn.co/image/ab67616d0000b273e76678d552d50bf3a6547312',\n",
       "      'width': 640},\n",
       "     {'height': 300,\n",
       "      'url': 'https://i.scdn.co/image/ab67616d00001e02e76678d552d50bf3a6547312',\n",
       "      'width': 300},\n",
       "     {'height': 64,\n",
       "      'url': 'https://i.scdn.co/image/ab67616d00004851e76678d552d50bf3a6547312',\n",
       "      'width': 64}],\n",
       "    'name': 'Dblackz MastoDon',\n",
       "    'popularity': 0,\n",
       "    'type': 'artist',\n",
       "    'uri': 'spotify:artist:7Fhp9FkCur0n6MeXGFlCU1'}],\n",
       "  'limit': 20,\n",
       "  'next': None,\n",
       "  'offset': 0,\n",
       "  'previous': None,\n",
       "  'total': 13}}"
      ]
     },
     "execution_count": 25,
     "metadata": {},
     "output_type": "execute_result"
    }
   ],
   "source": [
    "import requests\n",
    "\n",
    "clientID = \"73959e0cf079471d889248b2b9c97b08\" # your client ID here\n",
    "clientSecret = \"053c647cf41d42518450eebfbc0a1567\" # your client secret here\n",
    "\n",
    "grantType = 'client_credentials'\n",
    "\n",
    "#Request based on Client Credentials Flow from https://developer.spotify.com/web-api/authorization-guide/\n",
    "\n",
    "#Request body parameter: grant_type Value: Required. Set it to client_credentials\n",
    "bodyParams = {'grant_type' : grantType}\n",
    "\n",
    "url='https://accounts.spotify.com/api/token'\n",
    "\n",
    "response=requests.post(url, data=bodyParams, auth = (clientID, clientSecret)).json()\n",
    "# print (response) # this response should be a json object (dictionary) with an access_token key. # you'll need\n",
    "# the access token key in subsequent calls. you can access it using response[\"access_token\"]\n",
    "\n",
    "headers = {\"Authorization\": \"Bearer \"+response[\"access_token\"]} # you'll use this in your subsequent requests\n",
    "\n",
    "# example request\n",
    "mastodonSearch=requests.get(\"https://api.spotify.com/v1/search?q=Mastodon&type=artist\", headers=headers).json()\n",
    "mastodonSearch"
   ]
  },
  {
   "cell_type": "markdown",
   "id": "b7d7de98",
   "metadata": {},
   "source": [
    "Now that we can access the API, we must gather the specific Song ID from the top tracks of the current week (4/21/22). For this data, I will be downloading the CSV available at spotifycharts.com. Here is a preview of the CSV."
   ]
  },
  {
   "cell_type": "code",
   "execution_count": 26,
   "id": "6a222851",
   "metadata": {},
   "outputs": [
    {
     "data": {
      "text/html": [
       "<div>\n",
       "<style scoped>\n",
       "    .dataframe tbody tr th:only-of-type {\n",
       "        vertical-align: middle;\n",
       "    }\n",
       "\n",
       "    .dataframe tbody tr th {\n",
       "        vertical-align: top;\n",
       "    }\n",
       "\n",
       "    .dataframe thead th {\n",
       "        text-align: right;\n",
       "    }\n",
       "</style>\n",
       "<table border=\"1\" class=\"dataframe\">\n",
       "  <thead>\n",
       "    <tr style=\"text-align: right;\">\n",
       "      <th></th>\n",
       "      <th>0</th>\n",
       "      <th>1</th>\n",
       "      <th>2</th>\n",
       "      <th>3</th>\n",
       "      <th>4</th>\n",
       "    </tr>\n",
       "  </thead>\n",
       "  <tbody>\n",
       "    <tr>\n",
       "      <th>0</th>\n",
       "      <td>NaN</td>\n",
       "      <td>NaN</td>\n",
       "      <td>NaN</td>\n",
       "      <td>Note that these figures are generated using a ...</td>\n",
       "      <td>NaN</td>\n",
       "    </tr>\n",
       "    <tr>\n",
       "      <th>1</th>\n",
       "      <td>Position</td>\n",
       "      <td>Track Name</td>\n",
       "      <td>Artist</td>\n",
       "      <td>Streams</td>\n",
       "      <td>URL</td>\n",
       "    </tr>\n",
       "    <tr>\n",
       "      <th>2</th>\n",
       "      <td>1</td>\n",
       "      <td>As It Was</td>\n",
       "      <td>Harry Styles</td>\n",
       "      <td>67265741</td>\n",
       "      <td>https://open.spotify.com/track/4LRPiXqCikLlN15...</td>\n",
       "    </tr>\n",
       "    <tr>\n",
       "      <th>3</th>\n",
       "      <td>2</td>\n",
       "      <td>First Class</td>\n",
       "      <td>Jack Harlow</td>\n",
       "      <td>50438229</td>\n",
       "      <td>https://open.spotify.com/track/1rDQ4oMwGJI7B4t...</td>\n",
       "    </tr>\n",
       "    <tr>\n",
       "      <th>4</th>\n",
       "      <td>3</td>\n",
       "      <td>Heat Waves</td>\n",
       "      <td>Glass Animals</td>\n",
       "      <td>29307788</td>\n",
       "      <td>https://open.spotify.com/track/02MWAaffLxlfxAU...</td>\n",
       "    </tr>\n",
       "  </tbody>\n",
       "</table>\n",
       "</div>"
      ],
      "text/plain": [
       "          0            1              2  \\\n",
       "0       NaN          NaN            NaN   \n",
       "1  Position   Track Name         Artist   \n",
       "2         1    As It Was   Harry Styles   \n",
       "3         2  First Class    Jack Harlow   \n",
       "4         3   Heat Waves  Glass Animals   \n",
       "\n",
       "                                                   3  \\\n",
       "0  Note that these figures are generated using a ...   \n",
       "1                                            Streams   \n",
       "2                                           67265741   \n",
       "3                                           50438229   \n",
       "4                                           29307788   \n",
       "\n",
       "                                                   4  \n",
       "0                                                NaN  \n",
       "1                                                URL  \n",
       "2  https://open.spotify.com/track/4LRPiXqCikLlN15...  \n",
       "3  https://open.spotify.com/track/1rDQ4oMwGJI7B4t...  \n",
       "4  https://open.spotify.com/track/02MWAaffLxlfxAU...  "
      ]
     },
     "execution_count": 26,
     "metadata": {},
     "output_type": "execute_result"
    }
   ],
   "source": [
    "import pandas as pd\n",
    "import numpy as np\n",
    "\n",
    "chartsPreview = pd.read_csv(\"TOPCHARTS.CSV\", header=None)\n",
    "#creates dataframe from the csv\n",
    "chartsPreview.head(5)"
   ]
  },
  {
   "cell_type": "markdown",
   "id": "acd38007",
   "metadata": {},
   "source": [
    "To gather song data using the API, we must extract the unique song IDs from the dataframe. To do this, we will create a series object of the song IDs, then convert it into a list."
   ]
  },
  {
   "cell_type": "code",
   "execution_count": 27,
   "id": "5fa028e6",
   "metadata": {},
   "outputs": [
    {
     "name": "stdout",
     "output_type": "stream",
     "text": [
      "<class 'pandas.core.series.Series'>\n"
     ]
    },
    {
     "data": {
      "text/plain": [
       "0                                                    NaN\n",
       "1                                                    URL\n",
       "2      https://open.spotify.com/track/4LRPiXqCikLlN15...\n",
       "3      https://open.spotify.com/track/1rDQ4oMwGJI7B4t...\n",
       "4      https://open.spotify.com/track/02MWAaffLxlfxAU...\n",
       "                             ...                        \n",
       "197    https://open.spotify.com/track/0B7wvvmu9EISAwZ...\n",
       "198    https://open.spotify.com/track/3rq5w4bQGigXOfd...\n",
       "199    https://open.spotify.com/track/285pBltuF7vW8Te...\n",
       "200    https://open.spotify.com/track/2BEcap3xJtmiPaH...\n",
       "201    https://open.spotify.com/track/2VxeLyX666F8uXC...\n",
       "Name: 4, Length: 202, dtype: object"
      ]
     },
     "execution_count": 27,
     "metadata": {},
     "output_type": "execute_result"
    }
   ],
   "source": [
    "songID = chartsPreview[4] # creates a series object of the track URL column\n",
    "print(type(songID))\n",
    "songID"
   ]
  },
  {
   "cell_type": "code",
   "execution_count": 28,
   "id": "8cc69655",
   "metadata": {
    "scrolled": true
   },
   "outputs": [
    {
     "name": "stdout",
     "output_type": "stream",
     "text": [
      "[nan, 'URL', 'https://open.spotify.com/track/4LRPiXqCikLlN15c3yImP7', 'https://open.spotify.com/track/1rDQ4oMwGJI7B4tovsBOxc', 'https://open.spotify.com/track/02MWAaffLxlfxAUY7c5dvx', 'https://open.spotify.com/track/5PjdY0CKGZdEuoNab3yDmX', 'https://open.spotify.com/track/1HhNoOuqm1a5MXYEgAFl8o', 'https://open.spotify.com/track/3FkeNbs9Zeiqkr3WkbOiGp', 'https://open.spotify.com/track/2DB4DdfCFMw1iaR6JaR03a', 'https://open.spotify.com/track/5Z9KJZvQzH6PFmb8SNkxuk', 'https://open.spotify.com/track/7rglLriMNBPAyuJOMGwi39', 'https://open.spotify.com/track/4fouWK6XVHhzl78KzQ1UjL', 'https://open.spotify.com/track/1O2pcBJGej0pmH2Y9XZMs6', 'https://open.spotify.com/track/1ri9ZUkBJVFUdgwzCnfcYs', 'https://open.spotify.com/track/6I3mqTwhRpn34SLVafSH7G', 'https://open.spotify.com/track/58HvfVOeJY7lUuCqF0m3ly', 'https://open.spotify.com/track/6mmPpaltUZK7xjNlBPQQ0p', 'https://open.spotify.com/track/2gpQi3hbcUAcEG8m2dlgfB', 'https://open.spotify.com/track/6Uj1ctrBOjOas8xZXGqKk4', 'https://open.spotify.com/track/50nfwKoDiSYg8zOCREWAm5', 'https://open.spotify.com/track/4ZtFanR9U6ndgddUvNcjcG', 'https://open.spotify.com/track/46IZ0fSY2mpAiktS3KOqds', 'https://open.spotify.com/track/0e8nrvls4Qqv5Rfa2UhqmO', 'https://open.spotify.com/track/1UdzJEpgJxtuXAlCOvD4S0', 'https://open.spotify.com/track/3uUuGVFu1V7jTQL60S1r8z', 'https://open.spotify.com/track/48AJSd42lXpicsGqcgopof', 'https://open.spotify.com/track/3rmo8F54jFF8OgYsqTxm5d', 'https://open.spotify.com/track/2B4GHvToeLTOBB4QLzW3Ni', 'https://open.spotify.com/track/18asYwWugKjjsihZ0YvRxO', 'https://open.spotify.com/track/46HNZY1i7O6jwTA7Slo2PI', 'https://open.spotify.com/track/59CfNbkERJ3NoTXDvoURjj', 'https://open.spotify.com/track/3AVXwaOGCEL8cmBecfcsFJ', 'https://open.spotify.com/track/0VjIjW4GlUZAMYd2vXMi3b', 'https://open.spotify.com/track/0U1W2LZVUX7qTm7dDpqxh6', 'https://open.spotify.com/track/7jtQIBanIiJOMS6RyCx6jZ', 'https://open.spotify.com/track/1SOClUWhOi8vHZYMz3GluK', 'https://open.spotify.com/track/5CZ40GBx1sQ9agT82CLQCT', 'https://open.spotify.com/track/2QjOHCTQ1Jl3zawyYOpxh6', 'https://open.spotify.com/track/4gzsuuZypVbxs0Af1LSZyB', 'https://open.spotify.com/track/1HvTxgCj0mTzQlEo0zLvFb', 'https://open.spotify.com/track/3DarAbFujv6eYNliUTyqtz', 'https://open.spotify.com/track/2eAvDnpXP5W0cVtiI0PUxV', 'https://open.spotify.com/track/6UelLqGlWMcVH1E5c4H7lY', 'https://open.spotify.com/track/3Vi5XqYrmQgOYBajMWSvCi', 'https://open.spotify.com/track/5wANPM4fQCJwkGd4rN57mH', 'https://open.spotify.com/track/4SqWKzw0CbA05TGszDgMlc', 'https://open.spotify.com/track/2JPLbjOn0wPCngEot2STUS', 'https://open.spotify.com/track/0y60itmpH0aPKsFiGxmtnh', 'https://open.spotify.com/track/5nujrmhLynf4yMoMtj8AQF', 'https://open.spotify.com/track/2rDZhKnPaPG054ExZ6nXUS', 'https://open.spotify.com/track/4RVwu0g32PAqgUiJoXsdF8', 'https://open.spotify.com/track/5QO79kh1waicV47BqGRL3g', 'https://open.spotify.com/track/0Q5VnK2DYzRyfqQRJuUtvi', 'https://open.spotify.com/track/20on25jryn53hWghthWWW3', 'https://open.spotify.com/track/1oFAF1hdPOickyHgbuRjyX', 'https://open.spotify.com/track/6HU7h9RYOaPRFeh0R3UeAr', 'https://open.spotify.com/track/4srcMdbm2qzVG98tJajHxp', 'https://open.spotify.com/track/2SJZdZ5DLtlRosJ2xHJJJa', 'https://open.spotify.com/track/58ge6dfP91o9oXMzq3XkIS', 'https://open.spotify.com/track/3AJwUDP919kvQ9QcozQPxg', 'https://open.spotify.com/track/1SC5rEoYDGUK4NfG82494W', 'https://open.spotify.com/track/531KGXtBroSrOX9LVmiIgc', 'https://open.spotify.com/track/5gflgO9EPbIBf16n5TKnQS', 'https://open.spotify.com/track/7lQ8MOhq6IN2w8EYcFNSUk', 'https://open.spotify.com/track/0HqZX76SFLDz2aW8aiqi7G', 'https://open.spotify.com/track/3uwnnTQcHM1rDqSfA4gQNz', 'https://open.spotify.com/track/2K7xn816oNHJZ0aVqdQsha', 'https://open.spotify.com/track/6lX6l7OuA3qrnIRfdsr0dw', 'https://open.spotify.com/track/52xJxFP6TqMuO4Yt0eOkMz', 'https://open.spotify.com/track/4MzXwWMhyBbmu6hOcLVD49', 'https://open.spotify.com/track/62Yo3FDddWY8ydu6PW2wyz', 'https://open.spotify.com/track/1mWdTewIgB3gtBM3TOSFhB', 'https://open.spotify.com/track/73cnVqsbZygieKi8xF10sO', 'https://open.spotify.com/track/0IuVhCflrQPMGRrOyoY5RW', 'https://open.spotify.com/track/6ylDpki1VpIsc525KC1ojF', 'https://open.spotify.com/track/4iJyoBOLtHqaGxP12qzhQI', 'https://open.spotify.com/track/3GaGWoU1KfVqgl7vnRHP55', 'https://open.spotify.com/track/3Wrjm47oTz2sjIgck11l5e', 'https://open.spotify.com/track/0pqnGHJpmpxLKifKRmU6WP', 'https://open.spotify.com/track/0Bv7O6fmZk3GrNQFYJaXPn', 'https://open.spotify.com/track/5TMLavqGRKNxgzMBrVpC9R', 'https://open.spotify.com/track/0oA9wBGDY4uyILLg4GymWP', 'https://open.spotify.com/track/3yfqSUWxFvZELEM4PmlwIR', 'https://open.spotify.com/track/6bTdZ7xfKp3NqqADJ8HLyj', 'https://open.spotify.com/track/2gQPv5jvVPqU2a9HhMNO1v', 'https://open.spotify.com/track/2m6Ko3CY1qXNNja8AlugNc', 'https://open.spotify.com/track/5QDLhrAOJJdNAmCTJ8xMyW', 'https://open.spotify.com/track/6bQ5823aHmFVKLZW8E7rRo', 'https://open.spotify.com/track/02VBYrHfVwfEWXk5DXyf0T', 'https://open.spotify.com/track/2Xr1dTzJee307rmrkt8c0g', 'https://open.spotify.com/track/5zNxUkUW9WiV5oyg6gh2wB', 'https://open.spotify.com/track/3rdAz1fbUfZxYgaCviYhRo', 'https://open.spotify.com/track/7mFj0LlWtEJaEigguaWqYh', 'https://open.spotify.com/track/2WL6GQzPuK9Nrpy9XwNEbz', 'https://open.spotify.com/track/4r9jkMEnArtWGH2rL2FZl0', 'https://open.spotify.com/track/3PfIrDoz19wz7qK7tYeu62', 'https://open.spotify.com/track/3sd2p4kE7xQmFH3lPnFl6h', 'https://open.spotify.com/track/68Dni7IE4VyPkTOH9mRWHr', 'https://open.spotify.com/track/00Blm7zeNqgYLPtW6zg8cj', 'https://open.spotify.com/track/0u2P5u6lvoDfwTYjAADbn4', 'https://open.spotify.com/track/0RiRZpuVRbi7oqRdSMwhQY', 'https://open.spotify.com/track/37y7iDayfwm3WXn5BiAoRk', 'https://open.spotify.com/track/3GZD6HmiNUhxXYf8Gch723', 'https://open.spotify.com/track/2vmfvSoZBFAt9hhRoEByLi', 'https://open.spotify.com/track/6ws54n2IzyrIxxyzlG2bVJ', 'https://open.spotify.com/track/0fea68AdmYNygeTGI4RC18', 'https://open.spotify.com/track/3o9kpgkIcffx0iSwxhuNI2', 'https://open.spotify.com/track/3Kkjo3cT83cw09VJyrLNwX', 'https://open.spotify.com/track/7qEHsqek33rTcFNT9PFqLf', 'https://open.spotify.com/track/1v7L65Lzy0j0vdpRjJewt1', 'https://open.spotify.com/track/3XjN0mvFkQp1FMVM9Ro5hm', 'https://open.spotify.com/track/2gpWyfu7eZ01zzncHpxOtA', 'https://open.spotify.com/track/2J2Z1SkXYghSajLibnQHOa', 'https://open.spotify.com/track/1jIMjbzcGCcCQn5iMu9CUc', 'https://open.spotify.com/track/1XGmzt0PVuFgQYYnV2It7A', 'https://open.spotify.com/track/2tpWsVSb9UEmDRxAl1zhX1', 'https://open.spotify.com/track/0gucTLf7trAf37Ua1uAyAu', 'https://open.spotify.com/track/74WROFXsox6wkeUrEK2DS6', 'https://open.spotify.com/track/5g7sDjBhZ4I3gcFIpkrLuI', 'https://open.spotify.com/track/503OTo2dSqe7qk76rgsbep', 'https://open.spotify.com/track/40w8JmvwYUP2HUiXPxjy99', 'https://open.spotify.com/track/2tGvwE8GcFKwNdAXMnlbfl', 'https://open.spotify.com/track/3yMC1KsTwh0ceXdIe4QQAQ', 'https://open.spotify.com/track/69vlMrzHwATKzupwNcUPyK', 'https://open.spotify.com/track/1ZdhOMWyFR8Iv9eylMGYg2', 'https://open.spotify.com/track/6Y46tOTRhkBamosyuWa6YX', 'https://open.spotify.com/track/0k4d5YPDr1r7FX77VdqWez', 'https://open.spotify.com/track/0sTlGEld0h8kIPZaKDYUf4', 'https://open.spotify.com/track/0MMyJUC3WNnFS1lit5pTjk', 'https://open.spotify.com/track/4u7EnebtmKWzUH433cf5Qv', 'https://open.spotify.com/track/7qiZfU4dY1lWllzX7mPBI3', 'https://open.spotify.com/track/5TXDeTFVRVY7Cvt0Dw4vWW', 'https://open.spotify.com/track/7hU3IHwjX150XLoTVmjD0q', 'https://open.spotify.com/track/5JCoSi02qi3jJeHdZXMmR8', 'https://open.spotify.com/track/7EkWXAI1wn8Ii883ecd9xr', 'https://open.spotify.com/track/1u8c2t2Cy7UBoG4ArRcF5g', 'https://open.spotify.com/track/2Gq636OOGgxCTqEuzCZhsa', 'https://open.spotify.com/track/6HJIZUOiZDE814XMhRGSZN', 'https://open.spotify.com/track/0ct6r3EGTcMLPtrXHDvVjc', 'https://open.spotify.com/track/6RUKPb4LETWmmr3iAEQktW', 'https://open.spotify.com/track/3jjujdWJ72nww5eGnfs2E7', 'https://open.spotify.com/track/1DIXPcTDzTj8ZMHt3PDt8p', 'https://open.spotify.com/track/7yq4Qj7cqayVTp3FF9CWbm', 'https://open.spotify.com/track/0bBd6K5X4W7t9GyXcaVOA7', 'https://open.spotify.com/track/2BcMwX1MPV6ZHP4tUT9uq6', 'https://open.spotify.com/track/5E30LdtzQTGqRvNd7l6kG5', 'https://open.spotify.com/track/003vvx7Niy0yvhvHt4a68B', 'https://open.spotify.com/track/4xkOaSrkexMciUUogZKVTS', 'https://open.spotify.com/track/78kygHp1dvW1kncYjBgbe1', 'https://open.spotify.com/track/0tgVpDi06FyKpA1z0VMD4v', 'https://open.spotify.com/track/7afaZ37wJJL6880z1NRgJS', 'https://open.spotify.com/track/6f5ExP43esnvdKPddwKXJH', 'https://open.spotify.com/track/3dYD57lRAUcMHufyqn9GcI', 'https://open.spotify.com/track/1ZMiCix7XSAbfAJlEZWMCp', 'https://open.spotify.com/track/3XOalgusokruzA5ZBA2Qcb', 'https://open.spotify.com/track/4QWumyD2uwiePBBha9XBHI', 'https://open.spotify.com/track/0G2zPzWqVjR68iNPmx2TBe', 'https://open.spotify.com/track/1zi7xx7UVEFkmKfv06H8x0', 'https://open.spotify.com/track/0nrRP2bk19rLc0orkWPQk2', 'https://open.spotify.com/track/21jGcNKet2qwijlDFuPiPb', 'https://open.spotify.com/track/4jPy3l0RUwlUI9T5XHBW2m', 'https://open.spotify.com/track/2N8m6CYs74qQO4mjVcXO30', 'https://open.spotify.com/track/4xqrdfXkTW4T0RauPLv3WA', 'https://open.spotify.com/track/5vUnjhBzRJJIAOJPde6zDx', 'https://open.spotify.com/track/7JJmb5XwzOO8jgpou264Ml', 'https://open.spotify.com/track/0bI7K9Becu2dtXK1Q3cZNB', 'https://open.spotify.com/track/22skzmqfdWrjJylampe0kt', 'https://open.spotify.com/track/1Y5Jvi3eLi4Chwqch9GMem', 'https://open.spotify.com/track/2Foc5Q5nqNiosCNqttzHof', 'https://open.spotify.com/track/48QmG1dfvMuYLxMPt7KSRA', 'https://open.spotify.com/track/6v3KW9xbzN5yKLt9YKDYA2', 'https://open.spotify.com/track/7BDHDiidJ8WV349p3HTxTV', 'https://open.spotify.com/track/161DnLWsx1i3u1JT05lzqU', 'https://open.spotify.com/track/6Jrdb6CFOJEGaHjaa6c4WR', 'https://open.spotify.com/track/7KA4W4McWYRpgf0fWsJZWB', 'https://open.spotify.com/track/7iL6o9tox1zgHpKUfh9vuC', 'https://open.spotify.com/track/5lAnYvAIkSDNXqfo7DyFUm', 'https://open.spotify.com/track/4bV5sf2B4hWBBd5HQ8S7KB', 'https://open.spotify.com/track/7BqBn9nzAq8spo5e7cZ0dJ', 'https://open.spotify.com/track/1WCEAGGRD066z2Q89ObXTq', 'https://open.spotify.com/track/3UmaczJpikHgJFyBTAJVoz', 'https://open.spotify.com/track/45S5WTQEGOB1VHr1Q4FuPl', 'https://open.spotify.com/track/2SLwbpExuoBDZBpjfefCtV', 'https://open.spotify.com/track/3Oww84xrmgjyr5J1ilOmAf', 'https://open.spotify.com/track/35mvY5S1H3J2QZyna3TFe0', 'https://open.spotify.com/track/0W6I02J9xcqK8MtSeosEXb', 'https://open.spotify.com/track/5719MEdRQcH4c3phXqX7WN', 'https://open.spotify.com/track/3TSLqZssCoCdDlMhCJ08XW', 'https://open.spotify.com/track/48q0vSHcJdhK3IiXH8C5WJ', 'https://open.spotify.com/track/0UXlu64mDLvfzR8IXMz06J', 'https://open.spotify.com/track/3U4isOIWM3VvDubwSI3y7a', 'https://open.spotify.com/track/4cktbXiXOapiLBMprHFErI', 'https://open.spotify.com/track/5enxwA8aAbwZbf5qCHORXi', 'https://open.spotify.com/track/32BeYxKPrig1LefHsC0Xuo', 'https://open.spotify.com/track/6EtKlIQmGPB9SX8UjDJG5s', 'https://open.spotify.com/track/7FIWs0pqAYbP91WWM0vlTQ', 'https://open.spotify.com/track/2ZRo7axmMPeSVUvDbGkJah', 'https://open.spotify.com/track/0B7wvvmu9EISAwZnOpjhNI', 'https://open.spotify.com/track/3rq5w4bQGigXOfdN30ATJt', 'https://open.spotify.com/track/285pBltuF7vW8TeWk8hdRR', 'https://open.spotify.com/track/2BEcap3xJtmiPaHKyfQi4e', 'https://open.spotify.com/track/2VxeLyX666F8uXCJ0dZF8B']\n"
     ]
    }
   ],
   "source": [
    "songIDList = songID.to_list() # turns the series object into a list\n",
    "print(songIDList)"
   ]
  },
  {
   "cell_type": "markdown",
   "id": "2618904b",
   "metadata": {},
   "source": [
    "Now that we have a list containing each song ID, we can gather specific song data from the API. In order to simplify the data collection process, I will be gathering data from the first 10 songs in the Top Charts and my personal listening data. Below, I will show the steps to acquire the 'valence', 'danceability', and 'tempo' of the songs."
   ]
  },
  {
   "cell_type": "code",
   "execution_count": 29,
   "id": "9ac3aaa2",
   "metadata": {},
   "outputs": [
    {
     "data": {
      "text/plain": [
       "['4LRPiXqCikLlN15c3yImP7',\n",
       " '1rDQ4oMwGJI7B4tovsBOxc',\n",
       " '02MWAaffLxlfxAUY7c5dvx',\n",
       " '5PjdY0CKGZdEuoNab3yDmX',\n",
       " '1HhNoOuqm1a5MXYEgAFl8o',\n",
       " '3FkeNbs9Zeiqkr3WkbOiGp',\n",
       " '2DB4DdfCFMw1iaR6JaR03a',\n",
       " '5Z9KJZvQzH6PFmb8SNkxuk',\n",
       " '7rglLriMNBPAyuJOMGwi39',\n",
       " '4fouWK6XVHhzl78KzQ1UjL']"
      ]
     },
     "execution_count": 29,
     "metadata": {},
     "output_type": "execute_result"
    }
   ],
   "source": [
    "#newSongID = [x.replace('https://open.spotify.com/track/','') for x in songIDList]\n",
    "\n",
    "chartIDList = [] # list to store the top 10 tracks' IDs\n",
    "for i in range(2,12): # for loop to capture the top 10 tracks, begins at 2 to eliminate 'nan' and 'URL' from the list\n",
    "    chartIDList.append(songIDList[i].replace('https://open.spotify.com/track/',''))# replaces the url with nothing\n",
    "    # then adds the ID to the chart list\n",
    "\n",
    "chartIDList"
   ]
  },
  {
   "cell_type": "code",
   "execution_count": 30,
   "id": "13b6e4c1",
   "metadata": {
    "scrolled": true
   },
   "outputs": [
    {
     "name": "stdout",
     "output_type": "stream",
     "text": [
      "[0.52, 0.905, 0.761, 0.591, 0.728, 0.812, 0.756, 0.741, 0.795, 0.695]\n",
      "[173.93, 106.998, 80.87, 169.928, 77.011, 91.993, 94.996, 150.087, 116.032, 121.932]\n",
      "[0.662, 0.324, 0.531, 0.478, 0.555, 0.396, 0.956, 0.892, 0.934, 0.415]\n"
     ]
    }
   ],
   "source": [
    "chartValenceList = [] # list to store the valence data\n",
    "chartTempoList = [] # list to store the tempo data\n",
    "chartDanceList = [] # list to store the danceability data\n",
    "\n",
    "for i in range(len(chartIDList)): # for loop running within the length of the chart id list\n",
    "    currentRequest = requests.get(\"https://api.spotify.com/v1/audio-features/\"+str(chartIDList[i]), headers=headers).json()\n",
    "    # requests the current ID in the for loop, headers is required for authentication\n",
    "    #print(currentRequest)\n",
    "    chartValenceList.append(currentRequest['valence']) # accesses the dictionary for valence and adds it to the list\n",
    "    chartTempoList.append(currentRequest['tempo']) # same as above but for tempo\n",
    "    chartDanceList.append(currentRequest['danceability']) # same as above but for danceability\n",
    "    \n",
    "print(chartDanceList)\n",
    "print(chartTempoList)\n",
    "print(chartValenceList)"
   ]
  },
  {
   "cell_type": "markdown",
   "id": "4e29f530",
   "metadata": {},
   "source": [
    "From the code above, we have accessed the API to produce lists of the danceability, tempo, and valence of the top 10 tracks listened to during the week of 4/21/22. Now, we must access my personal json file containing my listening history. We will collect data from the first ten tracks."
   ]
  },
  {
   "cell_type": "code",
   "execution_count": 31,
   "id": "a4087fca",
   "metadata": {},
   "outputs": [
    {
     "data": {
      "text/html": [
       "<div>\n",
       "<style scoped>\n",
       "    .dataframe tbody tr th:only-of-type {\n",
       "        vertical-align: middle;\n",
       "    }\n",
       "\n",
       "    .dataframe tbody tr th {\n",
       "        vertical-align: top;\n",
       "    }\n",
       "\n",
       "    .dataframe thead th {\n",
       "        text-align: right;\n",
       "    }\n",
       "</style>\n",
       "<table border=\"1\" class=\"dataframe\">\n",
       "  <thead>\n",
       "    <tr style=\"text-align: right;\">\n",
       "      <th></th>\n",
       "      <th>endTime</th>\n",
       "      <th>artistName</th>\n",
       "      <th>trackName</th>\n",
       "      <th>msPlayed</th>\n",
       "    </tr>\n",
       "  </thead>\n",
       "  <tbody>\n",
       "    <tr>\n",
       "      <th>0</th>\n",
       "      <td>2022-04-21 03:42</td>\n",
       "      <td>San Holo</td>\n",
       "      <td>heal (↑%)</td>\n",
       "      <td>221500</td>\n",
       "    </tr>\n",
       "    <tr>\n",
       "      <th>1</th>\n",
       "      <td>2022-04-21 03:46</td>\n",
       "      <td>Calvin Harris</td>\n",
       "      <td>Outside (feat. Ellie Goulding)</td>\n",
       "      <td>227266</td>\n",
       "    </tr>\n",
       "    <tr>\n",
       "      <th>2</th>\n",
       "      <td>2022-04-21 03:51</td>\n",
       "      <td>Daft Punk</td>\n",
       "      <td>Digital Love</td>\n",
       "      <td>301373</td>\n",
       "    </tr>\n",
       "    <tr>\n",
       "      <th>3</th>\n",
       "      <td>2022-04-21 03:56</td>\n",
       "      <td>Daft Punk</td>\n",
       "      <td>One More Time</td>\n",
       "      <td>320357</td>\n",
       "    </tr>\n",
       "    <tr>\n",
       "      <th>4</th>\n",
       "      <td>2022-04-21 04:00</td>\n",
       "      <td>Lemaitre</td>\n",
       "      <td>Stepping Stone</td>\n",
       "      <td>256418</td>\n",
       "    </tr>\n",
       "    <tr>\n",
       "      <th>...</th>\n",
       "      <td>...</td>\n",
       "      <td>...</td>\n",
       "      <td>...</td>\n",
       "      <td>...</td>\n",
       "    </tr>\n",
       "    <tr>\n",
       "      <th>374</th>\n",
       "      <td>2022-04-22 23:28</td>\n",
       "      <td>Spiritbox</td>\n",
       "      <td>Perennial</td>\n",
       "      <td>246480</td>\n",
       "    </tr>\n",
       "    <tr>\n",
       "      <th>375</th>\n",
       "      <td>2022-04-22 23:31</td>\n",
       "      <td>Currents</td>\n",
       "      <td>Let Me Leave</td>\n",
       "      <td>201011</td>\n",
       "    </tr>\n",
       "    <tr>\n",
       "      <th>376</th>\n",
       "      <td>2022-04-22 23:35</td>\n",
       "      <td>Currents</td>\n",
       "      <td>Poverty of Self</td>\n",
       "      <td>205669</td>\n",
       "    </tr>\n",
       "    <tr>\n",
       "      <th>377</th>\n",
       "      <td>2022-04-22 23:39</td>\n",
       "      <td>Currents</td>\n",
       "      <td>Origin</td>\n",
       "      <td>244768</td>\n",
       "    </tr>\n",
       "    <tr>\n",
       "      <th>378</th>\n",
       "      <td>2022-04-22 23:43</td>\n",
       "      <td>Beartooth</td>\n",
       "      <td>I Have a Problem</td>\n",
       "      <td>240029</td>\n",
       "    </tr>\n",
       "  </tbody>\n",
       "</table>\n",
       "<p>379 rows × 4 columns</p>\n",
       "</div>"
      ],
      "text/plain": [
       "              endTime     artistName                       trackName  msPlayed\n",
       "0    2022-04-21 03:42       San Holo                       heal (↑%)    221500\n",
       "1    2022-04-21 03:46  Calvin Harris  Outside (feat. Ellie Goulding)    227266\n",
       "2    2022-04-21 03:51      Daft Punk                    Digital Love    301373\n",
       "3    2022-04-21 03:56      Daft Punk                   One More Time    320357\n",
       "4    2022-04-21 04:00       Lemaitre                  Stepping Stone    256418\n",
       "..                ...            ...                             ...       ...\n",
       "374  2022-04-22 23:28      Spiritbox                       Perennial    246480\n",
       "375  2022-04-22 23:31       Currents                    Let Me Leave    201011\n",
       "376  2022-04-22 23:35       Currents                 Poverty of Self    205669\n",
       "377  2022-04-22 23:39       Currents                          Origin    244768\n",
       "378  2022-04-22 23:43      Beartooth                I Have a Problem    240029\n",
       "\n",
       "[379 rows x 4 columns]"
      ]
     },
     "execution_count": 31,
     "metadata": {},
     "output_type": "execute_result"
    }
   ],
   "source": [
    "personalHistory = pd.read_json(\"StreamingHistory3.json\")\n",
    "personalHistory"
   ]
  },
  {
   "cell_type": "markdown",
   "id": "bb4702fa",
   "metadata": {},
   "source": [
    "As we can see from the above file preview, the JSON file provided by spotify does not include the specific track ID with each track I have listened to. This means I will have to search each track using the api, and extract the track ID from there.\n",
    "\n",
    "For the sake of creating more interesting data, I will be using 0-4 tracks and 374-378 (the tracks shown in the preview).\n",
    "\n",
    "I picked another song, Bleach Bath by Spiritbox, to replace Origin by Currents, as the API search was too long to find the track ID I needed.\n",
    "\n",
    "I frequently repeat these songs, so the data will not be inaccurate when comparing it to the Top 10 charts data. I am choosing these specific songs to gather a more diverse set of genres (0-4 is electronic, 374-378 is metal).\n",
    "\n",
    "Due to the missing track ID in the JSON file given by Spotify, I will be making individual requests to search each track by name, finding the corresponding dictionary for said track, finding the ID, then adding specific dance, tempo, and valence stats to lists."
   ]
  },
  {
   "cell_type": "code",
   "execution_count": 32,
   "id": "4d478e9d",
   "metadata": {
    "scrolled": false
   },
   "outputs": [
    {
     "name": "stdout",
     "output_type": "stream",
     "text": [
      "[0.212]\n",
      "[128.28]\n",
      "[0.512]\n"
     ]
    }
   ],
   "source": [
    "trackNames = [\"heal (↑%)\",\"Outside (feat. Ellie Goulding)\", \"Digital Love\", \"One More Time\" ,\"Stepping Stone\", \"Perennial\",\n",
    "             \"Let Me Leave\", \"Poverty of Self\", \"Bleach Bath\", \"I Have a Problem\"]\n",
    "\n",
    "# I created a list of the track names in order to streamline the process of making individual requests.\n",
    "\n",
    "# Request for track one\n",
    "\n",
    "personalDanceList = []\n",
    "personalTempoList = []\n",
    "personalValenceList = []\n",
    "# Creating the lists to hold the values for Dance, Tempo, and Valence for each song.\n",
    "\n",
    "historyRequest = requests.get(\"https://api.spotify.com/v1/search?q=\"+trackNames[0]+\"&type=track\", headers=headers).json()\n",
    "#historyRequest\n",
    "variable=historyRequest['tracks']\n",
    "anotherVariable = variable['items']\n",
    "anotherVariable[1]['id']\n",
    "\n",
    "# Here, I am requesting the API search with the track name. Then, I create the variables \"Variable\" and \"anotherVariable\" \n",
    "# to access the specific dictionarys I need. From there, I iterate through the list and access the \"id\" key\n",
    "# to find the track ID for the specific song.\n",
    "\n",
    "testRequest = requests.get(\"https://api.spotify.com/v1/audio-features/\"+anotherVariable[1]['id'], headers=headers).json()\n",
    "testRequest\n",
    "\n",
    "# This is the same request used for the Top 10 Charts tracks. I call the desired ID and retrieve the track's specific stats.\n",
    "\n",
    "personalValenceList.append(testRequest['valence']) # accesses the dictionary for valence and adds it to the list\n",
    "personalTempoList.append(testRequest['tempo']) # same as above but for tempo\n",
    "personalDanceList.append(testRequest['danceability']) # same as above but for danceability\n",
    "\n",
    "print(personalValenceList)\n",
    "print(personalTempoList)\n",
    "print(personalDanceList)\n",
    "# I print the lists after each run to make sure the values are being added."
   ]
  },
  {
   "cell_type": "code",
   "execution_count": 33,
   "id": "f716bc8c",
   "metadata": {},
   "outputs": [
    {
     "name": "stdout",
     "output_type": "stream",
     "text": [
      "[0.212, 0.418]\n",
      "[128.28, 128.035]\n",
      "[0.512, 0.646]\n"
     ]
    }
   ],
   "source": [
    "# Request for track two, same exact code as above\n",
    "\n",
    "historyRequest = requests.get(\"https://api.spotify.com/v1/search?q=\"+trackNames[1]+\"&type=track\", headers=headers).json()\n",
    "#historyRequest\n",
    "variable=historyRequest['tracks']\n",
    "anotherVariable = variable['items']\n",
    "anotherVariable[0]['id']\n",
    "\n",
    "testRequest = requests.get(\"https://api.spotify.com/v1/audio-features/\"+anotherVariable[0]['id'], headers=headers).json()\n",
    "#testRequest\n",
    "\n",
    "personalValenceList.append(testRequest['valence']) # accesses the dictionary for valence and adds it to the list\n",
    "personalTempoList.append(testRequest['tempo']) # same as above but for tempo\n",
    "personalDanceList.append(testRequest['danceability']) # same as above but for danceability\n",
    "\n",
    "print(personalValenceList)\n",
    "print(personalTempoList)\n",
    "print(personalDanceList)"
   ]
  },
  {
   "cell_type": "code",
   "execution_count": 34,
   "id": "c2de7347",
   "metadata": {},
   "outputs": [
    {
     "name": "stdout",
     "output_type": "stream",
     "text": [
      "[0.212, 0.418, 0.53]\n",
      "[128.28, 128.035, 124.726]\n",
      "[0.512, 0.646, 0.644]\n"
     ]
    }
   ],
   "source": [
    "# Request for track three, same exact code as above\n",
    "\n",
    "historyRequest = requests.get(\"https://api.spotify.com/v1/search?q=\"+trackNames[2]+\"&type=track\", headers=headers).json()\n",
    "#historyRequest\n",
    "variable=historyRequest['tracks']\n",
    "anotherVariable = variable['items']\n",
    "anotherVariable[0]['id']\n",
    "\n",
    "testRequest = requests.get(\"https://api.spotify.com/v1/audio-features/\"+anotherVariable[0]['id'], headers=headers).json()\n",
    "#testRequest\n",
    "\n",
    "personalValenceList.append(testRequest['valence']) # accesses the dictionary for valence and adds it to the list\n",
    "personalTempoList.append(testRequest['tempo']) # same as above but for tempo\n",
    "personalDanceList.append(testRequest['danceability']) # same as above but for danceability\n",
    "\n",
    "print(personalValenceList)\n",
    "print(personalTempoList)\n",
    "print(personalDanceList)"
   ]
  },
  {
   "cell_type": "code",
   "execution_count": 35,
   "id": "179e9d02",
   "metadata": {},
   "outputs": [
    {
     "name": "stdout",
     "output_type": "stream",
     "text": [
      "[0.212, 0.418, 0.53, 0.476]\n",
      "[128.28, 128.035, 124.726, 122.746]\n",
      "[0.512, 0.646, 0.644, 0.613]\n"
     ]
    }
   ],
   "source": [
    "# Request for track four, same exact code as above\n",
    "\n",
    "historyRequest = requests.get(\"https://api.spotify.com/v1/search?q=\"+trackNames[3]+\"&type=track\", headers=headers).json()\n",
    "#historyRequest\n",
    "variable=historyRequest['tracks']\n",
    "anotherVariable = variable['items']\n",
    "anotherVariable[0]['id']\n",
    "\n",
    "testRequest = requests.get(\"https://api.spotify.com/v1/audio-features/\"+anotherVariable[0]['id'], headers=headers).json()\n",
    "#testRequest\n",
    "\n",
    "personalValenceList.append(testRequest['valence']) # accesses the dictionary for valence and adds it to the list\n",
    "personalTempoList.append(testRequest['tempo']) # same as above but for tempo\n",
    "personalDanceList.append(testRequest['danceability']) # same as above but for danceability\n",
    "\n",
    "print(personalValenceList)\n",
    "print(personalTempoList)\n",
    "print(personalDanceList)"
   ]
  },
  {
   "cell_type": "code",
   "execution_count": 36,
   "id": "b3a050e3",
   "metadata": {},
   "outputs": [
    {
     "name": "stdout",
     "output_type": "stream",
     "text": [
      "[0.212, 0.418, 0.53, 0.476, 0.416]\n",
      "[128.28, 128.035, 124.726, 122.746, 92.03]\n",
      "[0.512, 0.646, 0.644, 0.613, 0.579]\n"
     ]
    }
   ],
   "source": [
    "# Request for track five, same exact code as above\n",
    "\n",
    "historyRequest = requests.get(\"https://api.spotify.com/v1/search?q=\"+trackNames[4]+\"&type=track\", headers=headers).json()\n",
    "#historyRequest\n",
    "\n",
    "#6qsjIsKDkpnb8Z1UxozO8O\n",
    "variable=historyRequest['tracks']\n",
    "anotherVariable = variable['items']\n",
    "anotherVariable[6]['id']\n",
    "# List has an index of 6 due to the amount of tracks with the name \"Stepping Stone\"\n",
    "\n",
    "testRequest = requests.get(\"https://api.spotify.com/v1/audio-features/\"+anotherVariable[6]['id'], headers=headers).json()\n",
    "#testRequest\n",
    "\n",
    "personalValenceList.append(testRequest['valence']) # accesses the dictionary for valence and adds it to the list\n",
    "personalTempoList.append(testRequest['tempo']) # same as above but for tempo\n",
    "personalDanceList.append(testRequest['danceability']) # same as above but for danceability\n",
    "\n",
    "print(personalValenceList)\n",
    "print(personalTempoList)\n",
    "print(personalDanceList)"
   ]
  },
  {
   "cell_type": "code",
   "execution_count": 37,
   "id": "7d964d76",
   "metadata": {},
   "outputs": [
    {
     "name": "stdout",
     "output_type": "stream",
     "text": [
      "[0.212, 0.418, 0.53, 0.476, 0.416, 0.2]\n",
      "[128.28, 128.035, 124.726, 122.746, 92.03, 124.901]\n",
      "[0.512, 0.646, 0.644, 0.613, 0.579, 0.443]\n"
     ]
    }
   ],
   "source": [
    "# Request for track six, same exact code as above\n",
    "\n",
    "historyRequest = requests.get(\"https://api.spotify.com/v1/search?q=\"+trackNames[5]+\"&type=track\", headers=headers).json()\n",
    "#historyRequest\n",
    "\n",
    "variable=historyRequest['tracks']\n",
    "anotherVariable = variable['items']\n",
    "anotherVariable[0]['id']\n",
    "\n",
    "testRequest = requests.get(\"https://api.spotify.com/v1/audio-features/\"+anotherVariable[0]['id'], headers=headers).json()\n",
    "#testRequest\n",
    "\n",
    "personalValenceList.append(testRequest['valence']) # accesses the dictionary for valence and adds it to the list\n",
    "personalTempoList.append(testRequest['tempo']) # same as above but for tempo\n",
    "personalDanceList.append(testRequest['danceability']) # same as above but for danceability\n",
    "\n",
    "print(personalValenceList)\n",
    "print(personalTempoList)\n",
    "print(personalDanceList)"
   ]
  },
  {
   "cell_type": "code",
   "execution_count": 38,
   "id": "2be51b76",
   "metadata": {},
   "outputs": [
    {
     "name": "stdout",
     "output_type": "stream",
     "text": [
      "[0.212, 0.418, 0.53, 0.476, 0.416, 0.2, 0.224]\n",
      "[128.28, 128.035, 124.726, 122.746, 92.03, 124.901, 120.114]\n",
      "[0.512, 0.646, 0.644, 0.613, 0.579, 0.443, 0.494]\n"
     ]
    }
   ],
   "source": [
    "# Request for track seven, same exact code as above\n",
    "\n",
    "historyRequest = requests.get(\"https://api.spotify.com/v1/search?q=\"+trackNames[6]+\"&type=track\", headers=headers).json()\n",
    "historyRequest\n",
    "\n",
    "variable=historyRequest['tracks']\n",
    "anotherVariable = variable['items']\n",
    "anotherVariable[0]['id']\n",
    "\n",
    "testRequest = requests.get(\"https://api.spotify.com/v1/audio-features/\"+anotherVariable[0]['id'], headers=headers).json()\n",
    "#testRequest\n",
    "\n",
    "personalValenceList.append(testRequest['valence']) # accesses the dictionary for valence and adds it to the list\n",
    "personalTempoList.append(testRequest['tempo']) # same as above but for tempo\n",
    "personalDanceList.append(testRequest['danceability']) # same as above but for danceability\n",
    "\n",
    "print(personalValenceList)\n",
    "print(personalTempoList)\n",
    "print(personalDanceList)"
   ]
  },
  {
   "cell_type": "code",
   "execution_count": 39,
   "id": "7856f989",
   "metadata": {},
   "outputs": [
    {
     "name": "stdout",
     "output_type": "stream",
     "text": [
      "[0.212, 0.418, 0.53, 0.476, 0.416, 0.2, 0.224, 0.15]\n",
      "[128.28, 128.035, 124.726, 122.746, 92.03, 124.901, 120.114, 115.087]\n",
      "[0.512, 0.646, 0.644, 0.613, 0.579, 0.443, 0.494, 0.494]\n"
     ]
    }
   ],
   "source": [
    "# Request for track eight, same exact code as above\n",
    "\n",
    "historyRequest = requests.get(\"https://api.spotify.com/v1/search?q=\"+trackNames[7]+\"&type=track\", headers=headers).json()\n",
    "#historyRequest\n",
    "\n",
    "variable=historyRequest['tracks']\n",
    "anotherVariable = variable['items']\n",
    "anotherVariable[0]['id']\n",
    "\n",
    "testRequest = requests.get(\"https://api.spotify.com/v1/audio-features/\"+anotherVariable[0]['id'], headers=headers).json()\n",
    "#testRequest\n",
    "\n",
    "personalValenceList.append(testRequest['valence']) # accesses the dictionary for valence and adds it to the list\n",
    "personalTempoList.append(testRequest['tempo']) # same as above but for tempo\n",
    "personalDanceList.append(testRequest['danceability']) # same as above but for danceability\n",
    "\n",
    "print(personalValenceList)\n",
    "print(personalTempoList)\n",
    "print(personalDanceList)"
   ]
  },
  {
   "cell_type": "code",
   "execution_count": 40,
   "id": "5e5a73b8",
   "metadata": {},
   "outputs": [
    {
     "name": "stdout",
     "output_type": "stream",
     "text": [
      "[0.212, 0.418, 0.53, 0.476, 0.416, 0.2, 0.224, 0.15, 0.343]\n",
      "[128.28, 128.035, 124.726, 122.746, 92.03, 124.901, 120.114, 115.087, 130.079]\n",
      "[0.512, 0.646, 0.644, 0.613, 0.579, 0.443, 0.494, 0.494, 0.257]\n"
     ]
    }
   ],
   "source": [
    "# Request for track nine, same exact code as above\n",
    "\n",
    "historyRequest = requests.get(\"https://api.spotify.com/v1/search?q=\"+trackNames[8]+\"&type=track\", headers=headers).json()\n",
    "#historyRequest\n",
    "\n",
    "variable=historyRequest['tracks']\n",
    "anotherVariable = variable['items']\n",
    "anotherVariable[0]['id']\n",
    "\n",
    "testRequest = requests.get(\"https://api.spotify.com/v1/audio-features/\"+anotherVariable[0]['id'], headers=headers).json()\n",
    "#testRequest\n",
    "\n",
    "personalValenceList.append(testRequest['valence']) # accesses the dictionary for valence and adds it to the list\n",
    "personalTempoList.append(testRequest['tempo']) # same as above but for tempo\n",
    "personalDanceList.append(testRequest['danceability']) # same as above but for danceability\n",
    "\n",
    "print(personalValenceList)\n",
    "print(personalTempoList)\n",
    "print(personalDanceList)"
   ]
  },
  {
   "cell_type": "code",
   "execution_count": 41,
   "id": "8ef83504",
   "metadata": {},
   "outputs": [
    {
     "name": "stdout",
     "output_type": "stream",
     "text": [
      "[0.212, 0.418, 0.53, 0.476, 0.416, 0.2, 0.224, 0.15, 0.343, 0.241]\n",
      "[128.28, 128.035, 124.726, 122.746, 92.03, 124.901, 120.114, 115.087, 130.079, 104.991]\n",
      "[0.512, 0.646, 0.644, 0.613, 0.579, 0.443, 0.494, 0.494, 0.257, 0.534]\n"
     ]
    }
   ],
   "source": [
    "# Request for track ten, same exact code as above\n",
    "\n",
    "historyRequest = requests.get(\"https://api.spotify.com/v1/search?q=\"+trackNames[9]+\"&type=track\", headers=headers).json()\n",
    "#historyRequest\n",
    "\n",
    "variable=historyRequest['tracks']\n",
    "anotherVariable = variable['items']\n",
    "anotherVariable[0]['id']\n",
    "\n",
    "testRequest = requests.get(\"https://api.spotify.com/v1/audio-features/\"+anotherVariable[0]['id'], headers=headers).json()\n",
    "#testRequest\n",
    "\n",
    "personalValenceList.append(testRequest['valence']) # accesses the dictionary for valence and adds it to the list\n",
    "personalTempoList.append(testRequest['tempo']) # same as above but for tempo\n",
    "personalDanceList.append(testRequest['danceability']) # same as above but for danceability\n",
    "\n",
    "print(personalValenceList)\n",
    "print(personalTempoList)\n",
    "print(personalDanceList)"
   ]
  },
  {
   "cell_type": "markdown",
   "id": "80cd3cdc",
   "metadata": {},
   "source": [
    "Finally, all the desired data from the Spotify API has been gathered! Below are printouts of the Top 10 Songs and my personal Top 10 tracks during the period of ()."
   ]
  },
  {
   "cell_type": "code",
   "execution_count": 42,
   "id": "8aeb6943",
   "metadata": {},
   "outputs": [
    {
     "name": "stdout",
     "output_type": "stream",
     "text": [
      "Top 10 Charts VS Personal Valence Values\n",
      "[0.662, 0.324, 0.531, 0.478, 0.555, 0.396, 0.956, 0.892, 0.934, 0.415]\n",
      "[0.212, 0.418, 0.53, 0.476, 0.416, 0.2, 0.224, 0.15, 0.343, 0.241]\n",
      "\n",
      "Top 10 Charts VS Personal Dance Values\n",
      "[0.52, 0.905, 0.761, 0.591, 0.728, 0.812, 0.756, 0.741, 0.795, 0.695]\n",
      "[0.512, 0.646, 0.644, 0.613, 0.579, 0.443, 0.494, 0.494, 0.257, 0.534]\n",
      "\n",
      "Top 10 Charts VS Personal Tempo Values\n",
      "[173.93, 106.998, 80.87, 169.928, 77.011, 91.993, 94.996, 150.087, 116.032, 121.932]\n",
      "[128.28, 128.035, 124.726, 122.746, 92.03, 124.901, 120.114, 115.087, 130.079, 104.991]\n"
     ]
    }
   ],
   "source": [
    "print(\"Top 10 Charts VS Personal Valence Values\")\n",
    "print(chartValenceList)\n",
    "print(personalValenceList)\n",
    "print()\n",
    "print(\"Top 10 Charts VS Personal Dance Values\")\n",
    "print(chartDanceList)\n",
    "print(personalDanceList)\n",
    "print()\n",
    "print(\"Top 10 Charts VS Personal Tempo Values\")\n",
    "print(chartTempoList)\n",
    "print(personalTempoList)"
   ]
  },
  {
   "cell_type": "markdown",
   "id": "45f21809",
   "metadata": {},
   "source": [
    "Now let's use this data to answer some questions. "
   ]
  },
  {
   "cell_type": "code",
   "execution_count": 43,
   "id": "61ec1ed6",
   "metadata": {},
   "outputs": [],
   "source": [
    "import seaborn as sb # importing seaborn for plotting"
   ]
  },
  {
   "cell_type": "code",
   "execution_count": 44,
   "id": "59d39e09",
   "metadata": {},
   "outputs": [
    {
     "data": {
      "text/html": [
       "<div>\n",
       "<style scoped>\n",
       "    .dataframe tbody tr th:only-of-type {\n",
       "        vertical-align: middle;\n",
       "    }\n",
       "\n",
       "    .dataframe tbody tr th {\n",
       "        vertical-align: top;\n",
       "    }\n",
       "\n",
       "    .dataframe thead th {\n",
       "        text-align: right;\n",
       "    }\n",
       "</style>\n",
       "<table border=\"1\" class=\"dataframe\">\n",
       "  <thead>\n",
       "    <tr style=\"text-align: right;\">\n",
       "      <th></th>\n",
       "      <th>Top 10 Tempo</th>\n",
       "      <th>Personal 10 Tempo</th>\n",
       "      <th>Top 10 Dance</th>\n",
       "      <th>Personal 10 Dance</th>\n",
       "      <th>Top 10 Valence</th>\n",
       "      <th>Personal 10 Valence</th>\n",
       "    </tr>\n",
       "  </thead>\n",
       "  <tbody>\n",
       "    <tr>\n",
       "      <th>Track 1</th>\n",
       "      <td>173.930</td>\n",
       "      <td>128.280</td>\n",
       "      <td>0.520</td>\n",
       "      <td>0.512</td>\n",
       "      <td>0.662</td>\n",
       "      <td>0.212</td>\n",
       "    </tr>\n",
       "    <tr>\n",
       "      <th>Track 2</th>\n",
       "      <td>106.998</td>\n",
       "      <td>128.035</td>\n",
       "      <td>0.905</td>\n",
       "      <td>0.646</td>\n",
       "      <td>0.324</td>\n",
       "      <td>0.418</td>\n",
       "    </tr>\n",
       "    <tr>\n",
       "      <th>Track 3</th>\n",
       "      <td>80.870</td>\n",
       "      <td>124.726</td>\n",
       "      <td>0.761</td>\n",
       "      <td>0.644</td>\n",
       "      <td>0.531</td>\n",
       "      <td>0.530</td>\n",
       "    </tr>\n",
       "    <tr>\n",
       "      <th>Track 4</th>\n",
       "      <td>169.928</td>\n",
       "      <td>122.746</td>\n",
       "      <td>0.591</td>\n",
       "      <td>0.613</td>\n",
       "      <td>0.478</td>\n",
       "      <td>0.476</td>\n",
       "    </tr>\n",
       "    <tr>\n",
       "      <th>Track 5</th>\n",
       "      <td>77.011</td>\n",
       "      <td>92.030</td>\n",
       "      <td>0.728</td>\n",
       "      <td>0.579</td>\n",
       "      <td>0.555</td>\n",
       "      <td>0.416</td>\n",
       "    </tr>\n",
       "    <tr>\n",
       "      <th>Track 6</th>\n",
       "      <td>91.993</td>\n",
       "      <td>124.901</td>\n",
       "      <td>0.812</td>\n",
       "      <td>0.443</td>\n",
       "      <td>0.396</td>\n",
       "      <td>0.200</td>\n",
       "    </tr>\n",
       "    <tr>\n",
       "      <th>Track 7</th>\n",
       "      <td>94.996</td>\n",
       "      <td>120.114</td>\n",
       "      <td>0.756</td>\n",
       "      <td>0.494</td>\n",
       "      <td>0.956</td>\n",
       "      <td>0.224</td>\n",
       "    </tr>\n",
       "    <tr>\n",
       "      <th>Track 8</th>\n",
       "      <td>150.087</td>\n",
       "      <td>115.087</td>\n",
       "      <td>0.741</td>\n",
       "      <td>0.494</td>\n",
       "      <td>0.892</td>\n",
       "      <td>0.150</td>\n",
       "    </tr>\n",
       "    <tr>\n",
       "      <th>Track 9</th>\n",
       "      <td>116.032</td>\n",
       "      <td>130.079</td>\n",
       "      <td>0.795</td>\n",
       "      <td>0.257</td>\n",
       "      <td>0.934</td>\n",
       "      <td>0.343</td>\n",
       "    </tr>\n",
       "    <tr>\n",
       "      <th>Track 10</th>\n",
       "      <td>121.932</td>\n",
       "      <td>104.991</td>\n",
       "      <td>0.695</td>\n",
       "      <td>0.534</td>\n",
       "      <td>0.415</td>\n",
       "      <td>0.241</td>\n",
       "    </tr>\n",
       "  </tbody>\n",
       "</table>\n",
       "</div>"
      ],
      "text/plain": [
       "          Top 10 Tempo  Personal 10 Tempo  Top 10 Dance  Personal 10 Dance  \\\n",
       "Track 1        173.930            128.280         0.520              0.512   \n",
       "Track 2        106.998            128.035         0.905              0.646   \n",
       "Track 3         80.870            124.726         0.761              0.644   \n",
       "Track 4        169.928            122.746         0.591              0.613   \n",
       "Track 5         77.011             92.030         0.728              0.579   \n",
       "Track 6         91.993            124.901         0.812              0.443   \n",
       "Track 7         94.996            120.114         0.756              0.494   \n",
       "Track 8        150.087            115.087         0.741              0.494   \n",
       "Track 9        116.032            130.079         0.795              0.257   \n",
       "Track 10       121.932            104.991         0.695              0.534   \n",
       "\n",
       "          Top 10 Valence  Personal 10 Valence  \n",
       "Track 1            0.662                0.212  \n",
       "Track 2            0.324                0.418  \n",
       "Track 3            0.531                0.530  \n",
       "Track 4            0.478                0.476  \n",
       "Track 5            0.555                0.416  \n",
       "Track 6            0.396                0.200  \n",
       "Track 7            0.956                0.224  \n",
       "Track 8            0.892                0.150  \n",
       "Track 9            0.934                0.343  \n",
       "Track 10           0.415                0.241  "
      ]
     },
     "execution_count": 44,
     "metadata": {},
     "output_type": "execute_result"
    }
   ],
   "source": [
    "# making a pandas dataframe to organize the data\n",
    "\n",
    "columns = ['Top 10 Tempo','Personal 10 Tempo','Top 10 Dance','Personal 10 Dance','Top 10 Valence','Personal 10 Valence']\n",
    "# list of names for the columns\n",
    "index = [\"Track 1\",\"Track 2\",\"Track 3\",\"Track 4\",\"Track 5\",\"Track 6\",\"Track 7\",\"Track 8\",\"Track 9\",\"Track 10\",]\n",
    "# list of names for the rows\n",
    "\n",
    "musicDataFrame = pd.DataFrame(list(zip(chartTempoList,personalTempoList,chartDanceList,personalDanceList,\n",
    "                                       chartValenceList,personalValenceList)),index,columns)\n",
    "\n",
    "musicDataFrame"
   ]
  },
  {
   "cell_type": "code",
   "execution_count": 45,
   "id": "c33a4e1e",
   "metadata": {
    "scrolled": true
   },
   "outputs": [
    {
     "data": {
      "text/html": [
       "<div>\n",
       "<style scoped>\n",
       "    .dataframe tbody tr th:only-of-type {\n",
       "        vertical-align: middle;\n",
       "    }\n",
       "\n",
       "    .dataframe tbody tr th {\n",
       "        vertical-align: top;\n",
       "    }\n",
       "\n",
       "    .dataframe thead th {\n",
       "        text-align: right;\n",
       "    }\n",
       "</style>\n",
       "<table border=\"1\" class=\"dataframe\">\n",
       "  <thead>\n",
       "    <tr style=\"text-align: right;\">\n",
       "      <th></th>\n",
       "      <th>Data Category</th>\n",
       "      <th>value</th>\n",
       "    </tr>\n",
       "  </thead>\n",
       "  <tbody>\n",
       "    <tr>\n",
       "      <th>40</th>\n",
       "      <td>Top 10 Valence</td>\n",
       "      <td>0.662</td>\n",
       "    </tr>\n",
       "    <tr>\n",
       "      <th>41</th>\n",
       "      <td>Top 10 Valence</td>\n",
       "      <td>0.324</td>\n",
       "    </tr>\n",
       "    <tr>\n",
       "      <th>42</th>\n",
       "      <td>Top 10 Valence</td>\n",
       "      <td>0.531</td>\n",
       "    </tr>\n",
       "    <tr>\n",
       "      <th>43</th>\n",
       "      <td>Top 10 Valence</td>\n",
       "      <td>0.478</td>\n",
       "    </tr>\n",
       "    <tr>\n",
       "      <th>44</th>\n",
       "      <td>Top 10 Valence</td>\n",
       "      <td>0.555</td>\n",
       "    </tr>\n",
       "    <tr>\n",
       "      <th>45</th>\n",
       "      <td>Top 10 Valence</td>\n",
       "      <td>0.396</td>\n",
       "    </tr>\n",
       "    <tr>\n",
       "      <th>46</th>\n",
       "      <td>Top 10 Valence</td>\n",
       "      <td>0.956</td>\n",
       "    </tr>\n",
       "    <tr>\n",
       "      <th>47</th>\n",
       "      <td>Top 10 Valence</td>\n",
       "      <td>0.892</td>\n",
       "    </tr>\n",
       "    <tr>\n",
       "      <th>48</th>\n",
       "      <td>Top 10 Valence</td>\n",
       "      <td>0.934</td>\n",
       "    </tr>\n",
       "    <tr>\n",
       "      <th>49</th>\n",
       "      <td>Top 10 Valence</td>\n",
       "      <td>0.415</td>\n",
       "    </tr>\n",
       "    <tr>\n",
       "      <th>50</th>\n",
       "      <td>Personal 10 Valence</td>\n",
       "      <td>0.212</td>\n",
       "    </tr>\n",
       "    <tr>\n",
       "      <th>51</th>\n",
       "      <td>Personal 10 Valence</td>\n",
       "      <td>0.418</td>\n",
       "    </tr>\n",
       "    <tr>\n",
       "      <th>52</th>\n",
       "      <td>Personal 10 Valence</td>\n",
       "      <td>0.530</td>\n",
       "    </tr>\n",
       "    <tr>\n",
       "      <th>53</th>\n",
       "      <td>Personal 10 Valence</td>\n",
       "      <td>0.476</td>\n",
       "    </tr>\n",
       "    <tr>\n",
       "      <th>54</th>\n",
       "      <td>Personal 10 Valence</td>\n",
       "      <td>0.416</td>\n",
       "    </tr>\n",
       "    <tr>\n",
       "      <th>55</th>\n",
       "      <td>Personal 10 Valence</td>\n",
       "      <td>0.200</td>\n",
       "    </tr>\n",
       "    <tr>\n",
       "      <th>56</th>\n",
       "      <td>Personal 10 Valence</td>\n",
       "      <td>0.224</td>\n",
       "    </tr>\n",
       "    <tr>\n",
       "      <th>57</th>\n",
       "      <td>Personal 10 Valence</td>\n",
       "      <td>0.150</td>\n",
       "    </tr>\n",
       "    <tr>\n",
       "      <th>58</th>\n",
       "      <td>Personal 10 Valence</td>\n",
       "      <td>0.343</td>\n",
       "    </tr>\n",
       "    <tr>\n",
       "      <th>59</th>\n",
       "      <td>Personal 10 Valence</td>\n",
       "      <td>0.241</td>\n",
       "    </tr>\n",
       "  </tbody>\n",
       "</table>\n",
       "</div>"
      ],
      "text/plain": [
       "          Data Category  value\n",
       "40       Top 10 Valence  0.662\n",
       "41       Top 10 Valence  0.324\n",
       "42       Top 10 Valence  0.531\n",
       "43       Top 10 Valence  0.478\n",
       "44       Top 10 Valence  0.555\n",
       "45       Top 10 Valence  0.396\n",
       "46       Top 10 Valence  0.956\n",
       "47       Top 10 Valence  0.892\n",
       "48       Top 10 Valence  0.934\n",
       "49       Top 10 Valence  0.415\n",
       "50  Personal 10 Valence  0.212\n",
       "51  Personal 10 Valence  0.418\n",
       "52  Personal 10 Valence  0.530\n",
       "53  Personal 10 Valence  0.476\n",
       "54  Personal 10 Valence  0.416\n",
       "55  Personal 10 Valence  0.200\n",
       "56  Personal 10 Valence  0.224\n",
       "57  Personal 10 Valence  0.150\n",
       "58  Personal 10 Valence  0.343\n",
       "59  Personal 10 Valence  0.241"
      ]
     },
     "execution_count": 45,
     "metadata": {},
     "output_type": "execute_result"
    }
   ],
   "source": [
    "# visualisation for question 1\n",
    "# “How does the Spotify emotional data of my personal listening history compare to the top 10 songs during the week of 4/21/22?”\n",
    "musicMelt = musicDataFrame.melt(var_name=\"Data Category\")\n",
    "a = pd.DataFrame(musicMelt.iloc[40:60])\n",
    "a"
   ]
  },
  {
   "cell_type": "code",
   "execution_count": 46,
   "id": "7f4d503a",
   "metadata": {},
   "outputs": [
    {
     "data": {
      "text/plain": [
       "<seaborn.axisgrid.FacetGrid at 0x22b5f242f10>"
      ]
     },
     "execution_count": 46,
     "metadata": {},
     "output_type": "execute_result"
    },
    {
     "data": {
      "image/png": "[encoded data removed]",
      "text/plain": [
       "<Figure size 360x360 with 1 Axes>"
      ]
     },
     "metadata": {
      "needs_background": "light"
     },
     "output_type": "display_data"
    }
   ],
   "source": [
    "sb.catplot(x=\"Data Category\", y=\"value\",data=a,kind=\"bar\")"
   ]
  },
  {
   "cell_type": "markdown",
   "id": "54bf0d3c",
   "metadata": {},
   "source": [
    "The above graph compares the average valence between the Top 10 tracks of the week of 4/21/22, and my personal top 10 tracks listened to during the same period. As we can see, there is a significant negative different between my personal tracks and the top 10. The vertical bars inside each bar are \"error bars\", which represent one standard deviation of uncertainty. Even with this measurement accounted for in the graph, there is a significant difference between the valence values of my personal music and the top 10 tracks."
   ]
  },
  {
   "cell_type": "code",
   "execution_count": 47,
   "id": "1e6c486c",
   "metadata": {},
   "outputs": [
    {
     "data": {
      "text/plain": [
       "<AxesSubplot:xlabel='Personal 10 Tempo', ylabel='Personal 10 Valence'>"
      ]
     },
     "execution_count": 47,
     "metadata": {},
     "output_type": "execute_result"
    },
    {
     "data": {
      "image/png": "[encoded data removed]",
      "text/plain": [
       "<Figure size 432x288 with 1 Axes>"
      ]
     },
     "metadata": {
      "needs_background": "light"
     },
     "output_type": "display_data"
    }
   ],
   "source": [
    "# visualisation for question 2\n",
    "# “Does an increase in tempo mean an increase in valence?” \n",
    "sb.lineplot(x=\"Personal 10 Tempo\",y=\"Personal 10 Valence\",data=musicDataFrame)"
   ]
  },
  {
   "cell_type": "markdown",
   "id": "8a384f2d",
   "metadata": {},
   "source": [
    "This line plot graphs the valence and tempo from my personal top 10 tracks. The graph begins with a steady negative trend. As valence goes down, tempo increases. Then, there are sharp increases in valence within the higher tempos presented in the data. From this data, we can confirm that an increase in tempo does not cause a definite increase in valence. The unsteady direction of this graph could be explained by the different genres of the tracks. With the top 10 tracks from the listening charts, all songs used for data gathering are Pop, whereas I chose some electronic music and some metal music. "
   ]
  },
  {
   "cell_type": "code",
   "execution_count": 48,
   "id": "31c27a89",
   "metadata": {},
   "outputs": [
    {
     "data": {
      "text/plain": [
       "<AxesSubplot:xlabel='Top 10 Tempo', ylabel='Top 10 Dance'>"
      ]
     },
     "execution_count": 48,
     "metadata": {},
     "output_type": "execute_result"
    },
    {
     "data": {
      "image/png": "[encoded data removed]",
      "text/plain": [
       "<Figure size 432x288 with 1 Axes>"
      ]
     },
     "metadata": {
      "needs_background": "light"
     },
     "output_type": "display_data"
    }
   ],
   "source": [
    "# visualisation for question 3\n",
    "# “Does an increase in tempo mean an increase in danceability?”\n",
    "sb.lineplot(x=\"Top 10 Tempo\",y=\"Top 10 Dance\",data=musicDataFrame)"
   ]
  },
  {
   "cell_type": "markdown",
   "id": "4365bb5f",
   "metadata": {},
   "source": [
    "This line plot graphs the danceability and tempo from the top 10 tracks from the listening charts. The graph shows no definite trend between tempo and danceability. This could be explained by the other measurement Spotify gathers for each song, such as energy, liveness, and speechiness."
   ]
  }
 ],
 "metadata": {
  "kernelspec": {
   "display_name": "Python 3 (ipykernel)",
   "language": "python",
   "name": "python3"
  },
  "language_info": {
   "codemirror_mode": {
    "name": "ipython",
    "version": 3
   },
   "file_extension": ".py",
   "mimetype": "text/x-python",
   "name": "python",
   "nbconvert_exporter": "python",
   "pygments_lexer": "ipython3",
   "version": "3.9.12"
  }
 },
 "nbformat": 4,
 "nbformat_minor": 5
}
